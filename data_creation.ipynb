{
 "cells": [
  {
   "cell_type": "code",
   "execution_count": 1,
   "metadata": {},
   "outputs": [],
   "source": [
    "import pandas as pd\n",
    "import requests \n",
    "import json\n",
    "from config import gkey\n",
    "import numpy as np\n",
    "from sqlalchemy import create_engine"
   ]
  },
  {
   "cell_type": "code",
   "execution_count": 2,
   "metadata": {},
   "outputs": [],
   "source": [
    "url = 'https://en.wikipedia.org/wiki/List_of_the_United_States_National_Park_System_official_units'"
   ]
  },
  {
   "cell_type": "code",
   "execution_count": 3,
   "metadata": {},
   "outputs": [],
   "source": [
    "tables = pd.read_html(url)"
   ]
  },
  {
   "cell_type": "code",
   "execution_count": 4,
   "metadata": {},
   "outputs": [
    {
     "name": "stdout",
     "output_type": "stream",
     "text": [
      "421\n"
     ]
    }
   ],
   "source": [
    "raw_df = tables[1]\n",
    "df = raw_df.drop_duplicates(subset='Name', keep=\"last\")\n",
    "print(len(df))"
   ]
  },
  {
   "cell_type": "code",
   "execution_count": 5,
   "metadata": {},
   "outputs": [],
   "source": [
    "states_that_matter = [\"Washington\", \"Oregon\", \"California\", \"Nevada\", \"Idaho\", \"Montana\", \"Wyoming\", \"Utah\",\n",
    "                      \"Arizona\", \"New Mexico\", \"Colorado\", \"North Dakota\", \"South Dakota\", \"Nebraska\", \"Kansas\", \n",
    "                      \"Oklahoma\", \"Texas\"]"
   ]
  },
  {
   "cell_type": "code",
   "execution_count": 6,
   "metadata": {},
   "outputs": [
    {
     "name": "stderr",
     "output_type": "stream",
     "text": [
      "/opt/anaconda3/lib/python3.7/site-packages/pandas/core/frame.py:3997: SettingWithCopyWarning: \n",
      "A value is trying to be set on a copy of a slice from a DataFrame\n",
      "\n",
      "See the caveats in the documentation: https://pandas.pydata.org/pandas-docs/stable/user_guide/indexing.html#returning-a-view-versus-a-copy\n",
      "  errors=errors,\n"
     ]
    },
    {
     "name": "stdout",
     "output_type": "stream",
     "text": [
      "156\n"
     ]
    }
   ],
   "source": [
    "#filtering out states east of the Mississippi\n",
    "for name in df[\"Location\"]:\n",
    "    if name not in states_that_matter: \n",
    "        df.drop(df.loc[df['Location']==name].index, inplace=True)\n",
    "print(len(df))\n"
   ]
  },
  {
   "cell_type": "code",
   "execution_count": 7,
   "metadata": {},
   "outputs": [
    {
     "data": {
      "text/plain": [
       "Name        156\n",
       "Location    156\n",
       "dtype: int64"
      ]
     },
     "execution_count": 7,
     "metadata": {},
     "output_type": "execute_result"
    }
   ],
   "source": [
    "us_parks = df.reset_index(drop=True)\n",
    "us_parks.count()"
   ]
  },
  {
   "cell_type": "code",
   "execution_count": null,
   "metadata": {},
   "outputs": [],
   "source": [
    "##DO NOT RUN NOW\n",
    "raw_national_parks = us_parks.loc[us_parks['Name'].str.endswith('National Park')]\n",
    "national_parks = raw_national_parks.reset_index(drop=True)\n",
    "\n",
    "raw_national_monuments = us_parks.loc[us_parks['Name'].str.endswith('National Monument')]\n",
    "national_monuments = raw_national_monuments.reset_index(drop=True)\n",
    "\n",
    "raw_recreation_areas = us_parks.loc[us_parks['Name'].str.endswith('Recreation Area')]\n",
    "recreation_areas = raw_recreation_areas.reset_index(drop=True)"
   ]
  },
  {
   "cell_type": "code",
   "execution_count": 8,
   "metadata": {},
   "outputs": [],
   "source": [
    "us_parks[\"type\"] = \"\""
   ]
  },
  {
   "cell_type": "code",
   "execution_count": 9,
   "metadata": {},
   "outputs": [],
   "source": [
    "us_parks.loc[us_parks.Name.str.endswith('National Park'), 'type'] = 'National Park'\n",
    "us_parks.loc[us_parks.Name.str.endswith('National Monument'), 'type'] = 'National Monument'\n",
    "us_parks.loc[us_parks.Name.str.endswith('Recreation Area'), 'type'] = 'Recreation Area'"
   ]
  },
  {
   "cell_type": "code",
   "execution_count": 10,
   "metadata": {},
   "outputs": [],
   "source": [
    "## dropping everything that isnt a National Park, Monument or Recreation Area\n",
    "\n",
    "i = us_parks[(us_parks.type == '')].index\n",
    "us_parks.drop(i, inplace = True)"
   ]
  },
  {
   "cell_type": "code",
   "execution_count": 11,
   "metadata": {},
   "outputs": [],
   "source": [
    "#had to remove this park because it will break the API call loop, island can't be driven to\n",
    "us_parks.drop(us_parks.loc[us_parks['Name'] == \"Channel Islands National Park\"].index, inplace = True)\n",
    "us_parks.drop(us_parks.loc[us_parks['Name'] == \"Rainbow Bridge National Monument\"].index, inplace = True)\n",
    "us_parks.drop(us_parks.loc[us_parks['Name'] == \"Lake Chelan National Recreation Area\"].index, inplace = True)\n"
   ]
  },
  {
   "cell_type": "code",
   "execution_count": 12,
   "metadata": {},
   "outputs": [],
   "source": [
    "us_parks.rename(columns = {\"Name\" : \"name\", \"Location\" : 'location'}, inplace = 'True')"
   ]
  },
  {
   "cell_type": "code",
   "execution_count": null,
   "metadata": {},
   "outputs": [],
   "source": [
    "us_parks.head(100)\n",
    "\n",
    "cities = {dallas, austin, houstin}"
   ]
  },
  {
   "cell_type": "code",
   "execution_count": 13,
   "metadata": {},
   "outputs": [],
   "source": [
    "lat_list = []\n",
    "lng_list = []\n",
    "\n",
    "for park in us_parks['name']:\n",
    "    target_park = park\n",
    "    base_url = \"https://maps.googleapis.com/maps/api/place/findplacefromtext/json\"\n",
    "    params = {\"input\": target_park,\"key\": gkey, \"inputtype\" : \"textquery\", \"fields\" : \"geometry\"}\n",
    "    response = requests.get(base_url, params=params)\n",
    "    trip = response.json()\n",
    "    \n",
    "    lat = trip[\"candidates\"][0][\"geometry\"][\"location\"][\"lat\"]\n",
    "    lng = trip[\"candidates\"][0][\"geometry\"][\"location\"][\"lng\"]\n",
    "    \n",
    "    lat_list.append(lat)\n",
    "    lng_list.append(lng)\n",
    "    \n",
    "us_parks.insert(3, 'lat', lat_list)\n",
    "us_parks.insert(4, 'lng', lng_list)   \n"
   ]
  },
  {
   "cell_type": "code",
   "execution_count": null,
   "metadata": {},
   "outputs": [],
   "source": [
    "data = pd.read_sql(\"SELECT * FROM Census_Data\", conn)"
   ]
  },
  {
   "cell_type": "code",
   "execution_count": 14,
   "metadata": {},
   "outputs": [],
   "source": [
    "#all working\n",
    "\n",
    "##dont run on first iteration\n",
    "\n",
    "target_city = \"Los Angeles\"\n",
    "\n",
    "distances = []\n",
    "durations = []\n",
    "for park in us_parks['name']:\n",
    "    #target_city = \"Portland\"\n",
    "    target_park = park\n",
    "\n",
    "    base_url = \"https://maps.googleapis.com/maps/api/distancematrix/json?units=imperial\"\n",
    "\n",
    "    params = {\"origins\": target_city, \"destinations\": target_park, \"key\": gkey}\n",
    "\n",
    "    response = requests.get(base_url, params=params)\n",
    "    try:\n",
    "        trip = response.json()\n",
    "\n",
    "        distance = trip[\"rows\"][0][\"elements\"][0][\"distance\"][\"text\"]\n",
    "        duration = trip[\"rows\"][0][\"elements\"][0][\"duration\"][\"value\"]\n",
    "\n",
    "        hours = round((duration/3600),2)\n",
    "\n",
    "        if \".\" in distance:\n",
    "            new_distance = float(distance.strip('mi').replace(',', ''))\n",
    "        else:\n",
    "            new_distance = int(distance.strip('mi').replace(',', ''))\n",
    "\n",
    "        distances.append(new_distance)\n",
    "        durations.append(hours)\n",
    "    except:\n",
    "        distances.append(0)\n",
    "        durations.append(0)\n",
    "\n",
    "\n",
    "us_parks.insert(5, 'distance', distances)\n",
    "us_parks.insert(6, 'duration', durations)\n",
    "\n",
    "# add this shit to the database so I dont have to query Google every time "
   ]
  },
  {
   "cell_type": "code",
   "execution_count": 15,
   "metadata": {},
   "outputs": [
    {
     "data": {
      "text/html": [
       "<div>\n",
       "<style scoped>\n",
       "    .dataframe tbody tr th:only-of-type {\n",
       "        vertical-align: middle;\n",
       "    }\n",
       "\n",
       "    .dataframe tbody tr th {\n",
       "        vertical-align: top;\n",
       "    }\n",
       "\n",
       "    .dataframe thead th {\n",
       "        text-align: right;\n",
       "    }\n",
       "</style>\n",
       "<table border=\"1\" class=\"dataframe\">\n",
       "  <thead>\n",
       "    <tr style=\"text-align: right;\">\n",
       "      <th></th>\n",
       "      <th>name</th>\n",
       "      <th>location</th>\n",
       "      <th>type</th>\n",
       "      <th>lat</th>\n",
       "      <th>lng</th>\n",
       "      <th>distance</th>\n",
       "      <th>duration</th>\n",
       "    </tr>\n",
       "  </thead>\n",
       "  <tbody>\n",
       "    <tr>\n",
       "      <th>1</th>\n",
       "      <td>Canyon De Chelly National Monument</td>\n",
       "      <td>Arizona</td>\n",
       "      <td>National Monument</td>\n",
       "      <td>36.133611</td>\n",
       "      <td>-109.469444</td>\n",
       "      <td>633.0</td>\n",
       "      <td>9.75</td>\n",
       "    </tr>\n",
       "    <tr>\n",
       "      <th>2</th>\n",
       "      <td>Casa Grande Ruins National Monument</td>\n",
       "      <td>Arizona</td>\n",
       "      <td>National Monument</td>\n",
       "      <td>32.995459</td>\n",
       "      <td>-111.535528</td>\n",
       "      <td>426.0</td>\n",
       "      <td>6.35</td>\n",
       "    </tr>\n",
       "    <tr>\n",
       "      <th>3</th>\n",
       "      <td>Chiricahua National Monument</td>\n",
       "      <td>Arizona</td>\n",
       "      <td>National Monument</td>\n",
       "      <td>32.013571</td>\n",
       "      <td>-109.342295</td>\n",
       "      <td>601.0</td>\n",
       "      <td>8.92</td>\n",
       "    </tr>\n",
       "    <tr>\n",
       "      <th>6</th>\n",
       "      <td>Glen Canyon National Recreation Area</td>\n",
       "      <td>Utah</td>\n",
       "      <td>Recreation Area</td>\n",
       "      <td>37.386726</td>\n",
       "      <td>-110.842426</td>\n",
       "      <td>525.0</td>\n",
       "      <td>7.94</td>\n",
       "    </tr>\n",
       "    <tr>\n",
       "      <th>7</th>\n",
       "      <td>Grand Canyon National Park</td>\n",
       "      <td>Arizona</td>\n",
       "      <td>National Park</td>\n",
       "      <td>36.106926</td>\n",
       "      <td>-112.112948</td>\n",
       "      <td>486.0</td>\n",
       "      <td>7.36</td>\n",
       "    </tr>\n",
       "  </tbody>\n",
       "</table>\n",
       "</div>"
      ],
      "text/plain": [
       "                                   name location               type  \\\n",
       "1    Canyon De Chelly National Monument  Arizona  National Monument   \n",
       "2   Casa Grande Ruins National Monument  Arizona  National Monument   \n",
       "3          Chiricahua National Monument  Arizona  National Monument   \n",
       "6  Glen Canyon National Recreation Area     Utah    Recreation Area   \n",
       "7            Grand Canyon National Park  Arizona      National Park   \n",
       "\n",
       "         lat         lng  distance  duration  \n",
       "1  36.133611 -109.469444     633.0      9.75  \n",
       "2  32.995459 -111.535528     426.0      6.35  \n",
       "3  32.013571 -109.342295     601.0      8.92  \n",
       "6  37.386726 -110.842426     525.0      7.94  \n",
       "7  36.106926 -112.112948     486.0      7.36  "
      ]
     },
     "execution_count": 15,
     "metadata": {},
     "output_type": "execute_result"
    }
   ],
   "source": [
    "us_parks.head()"
   ]
  },
  {
   "cell_type": "code",
   "execution_count": 16,
   "metadata": {},
   "outputs": [],
   "source": [
    "rds_connection_string = \"postgres:postgres@localhost:5432/Parks\"\n",
    "engine = create_engine(f'postgresql://{rds_connection_string}')"
   ]
  },
  {
   "cell_type": "code",
   "execution_count": 17,
   "metadata": {},
   "outputs": [],
   "source": [
    "def remove(string): \n",
    "    return string.replace(\" \", \"\")"
   ]
  },
  {
   "cell_type": "code",
   "execution_count": 18,
   "metadata": {},
   "outputs": [
    {
     "data": {
      "text/plain": [
       "'LosAngeles'"
      ]
     },
     "execution_count": 18,
     "metadata": {},
     "output_type": "execute_result"
    }
   ],
   "source": [
    "new_name = remove(target_city)\n",
    "new_name"
   ]
  },
  {
   "cell_type": "code",
   "execution_count": 19,
   "metadata": {},
   "outputs": [],
   "source": [
    "#us_parks.to_sql(target_city, engine)\n",
    "us_parks.to_sql(name=new_name.lower(), con=engine, if_exists='replace', index=False)"
   ]
  },
  {
   "cell_type": "code",
   "execution_count": 22,
   "metadata": {},
   "outputs": [],
   "source": [
    "data = engine.execute(f'alter table {new_name} add primary key (name)')"
   ]
  },
  {
   "cell_type": "code",
   "execution_count": null,
   "metadata": {},
   "outputs": [],
   "source": [
    "close_index = int(input(\"What is considered close to you in hours?\"))\n",
    "near_index = int(input(\"What is considered near to you in hours?\"))\n",
    "far_index = int(input(\"What is considered far to you in hours?\"))\n",
    "\n",
    "far_national_parks = national_parks[national_parks['Duration'] <= far_index]\n",
    "\n",
    "medium_national_parks = national_parks[(national_parks['Duration'] >= close_index) & (national_parks['Duration'] < far_index)]\n",
    "\n",
    "close_national_parks = national_parks[national_parks['Duration'] < close_index]\n",
    "\n",
    "print(\"Here is what you could reach within those criteria\")\n",
    "#print(len(medium_natinoal_parks))\n",
    "#print(len(close_national_parks))\n",
    "#print(len(far_natinoal_parks))\n",
    "close_national_parks"
   ]
  },
  {
   "cell_type": "code",
   "execution_count": null,
   "metadata": {},
   "outputs": [],
   "source": [
    "medium_national_parks"
   ]
  },
  {
   "cell_type": "code",
   "execution_count": null,
   "metadata": {},
   "outputs": [],
   "source": [
    "far_national_parks"
   ]
  },
  {
   "cell_type": "code",
   "execution_count": null,
   "metadata": {},
   "outputs": [],
   "source": [
    "close_index = int(input(\"What is considered close to you in hours?\"))\n",
    "near_index = int(input(\"What is considered near to you in hours?\"))\n",
    "far_index = int(input(\"What is considered far to you in hours?\"))\n",
    "\n",
    "far_national_parks = national_parks[national_parks['Duration'] >= far_index]\n",
    "\n",
    "medium_national_parks = national_parks[(national_parks['Duration'] >= close_index) & (national_parks['Duration'] < far_index)]\n",
    "\n",
    "close_national_parks = national_parks[national_parks['Duration'] < near_index]\n",
    "\n",
    "print(\"Here is what you could reach within those criteria\")\n",
    "#print(len(medium_natinoal_parks))\n",
    "#print(len(close_national_parks))\n",
    "#print(len(far_natinoal_parks))\n",
    "close_national_parks"
   ]
  },
  {
   "cell_type": "code",
   "execution_count": null,
   "metadata": {},
   "outputs": [],
   "source": [
    "##for scalability, when user inputs a new city, it uses the Google API to find all distances. After a city has been queried onve, the dabase is accessed instead for speed purposes\n",
    "\n",
    "#when you click a park, it takes you to a wiki page"
   ]
  }
 ],
 "metadata": {
  "kernelspec": {
   "display_name": "Python 3",
   "language": "python",
   "name": "python3"
  },
  "language_info": {
   "codemirror_mode": {
    "name": "ipython",
    "version": 3
   },
   "file_extension": ".py",
   "mimetype": "text/x-python",
   "name": "python",
   "nbconvert_exporter": "python",
   "pygments_lexer": "ipython3",
   "version": "3.7.6"
  }
 },
 "nbformat": 4,
 "nbformat_minor": 4
}
