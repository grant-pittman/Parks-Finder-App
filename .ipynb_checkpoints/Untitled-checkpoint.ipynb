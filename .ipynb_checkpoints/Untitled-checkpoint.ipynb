{
 "cells": [
  {
   "cell_type": "code",
   "execution_count": 1,
   "metadata": {},
   "outputs": [],
   "source": [
    "import pandas as pd\n",
    "import requests \n",
    "import json\n",
    "from config import gkey\n",
    "import numpy as np\n",
    "from sqlalchemy import create_engine"
   ]
  },
  {
   "cell_type": "code",
   "execution_count": null,
   "metadata": {},
   "outputs": [],
   "source": [
    "url = 'https://en.wikipedia.org/wiki/List_of_the_United_States_National_Park_System_official_units'"
   ]
  },
  {
   "cell_type": "code",
   "execution_count": null,
   "metadata": {},
   "outputs": [],
   "source": [
    "tables = pd.read_html(url)"
   ]
  },
  {
   "cell_type": "code",
   "execution_count": null,
   "metadata": {},
   "outputs": [],
   "source": [
    "raw_df = tables[1]\n",
    "df = raw_df.drop_duplicates(subset='Name', keep=\"last\")\n",
    "print(len(df))"
   ]
  },
  {
   "cell_type": "code",
   "execution_count": null,
   "metadata": {},
   "outputs": [],
   "source": [
    "states_that_matter = [\"Washington\", \"Oregon\", \"California\", \"Nevada\", \"Idaho\", \"Montana\", \"Wyoming\", \"Utah\",\n",
    "                      \"Arizona\", \"New Mexico\", \"Colorado\", \"North Dakota\", \"South Dakota\", \"Nebraska\", \"Kansas\", \n",
    "                      \"Oklahoma\", \"Texas\"]"
   ]
  },
  {
   "cell_type": "code",
   "execution_count": null,
   "metadata": {},
   "outputs": [],
   "source": [
    "#filtering out states east of the Mississippi\n",
    "for name in df[\"Location\"]:\n",
    "    if name not in states_that_matter: \n",
    "        df.drop(df.loc[df['Location']==name].index, inplace=True)\n",
    "print(len(df))\n"
   ]
  },
  {
   "cell_type": "code",
   "execution_count": null,
   "metadata": {},
   "outputs": [],
   "source": [
    "us_parks = df.reset_index(drop=True)\n",
    "us_parks.count()"
   ]
  },
  {
   "cell_type": "code",
   "execution_count": null,
   "metadata": {},
   "outputs": [],
   "source": [
    "##DO NOT RUN NOW\n",
    "raw_national_parks = us_parks.loc[us_parks['Name'].str.endswith('National Park')]\n",
    "national_parks = raw_national_parks.reset_index(drop=True)\n",
    "\n",
    "raw_national_monuments = us_parks.loc[us_parks['Name'].str.endswith('National Monument')]\n",
    "national_monuments = raw_national_monuments.reset_index(drop=True)\n",
    "\n",
    "raw_recreation_areas = us_parks.loc[us_parks['Name'].str.endswith('Recreation Area')]\n",
    "recreation_areas = raw_recreation_areas.reset_index(drop=True)"
   ]
  },
  {
   "cell_type": "code",
   "execution_count": null,
   "metadata": {},
   "outputs": [],
   "source": [
    "us_parks[\"type\"] = \"\""
   ]
  },
  {
   "cell_type": "code",
   "execution_count": null,
   "metadata": {},
   "outputs": [],
   "source": [
    "us_parks.loc[us_parks.Name.str.endswith('National Park'), 'type'] = 'National Park'\n",
    "us_parks.loc[us_parks.Name.str.endswith('National Monument'), 'type'] = 'National Monument'\n",
    "us_parks.loc[us_parks.Name.str.endswith('Recreation Area'), 'type'] = 'Recreation Area'"
   ]
  },
  {
   "cell_type": "code",
   "execution_count": null,
   "metadata": {},
   "outputs": [],
   "source": [
    "## dropping everything that isnt a National Park, Monument or Recreation Area\n",
    "\n",
    "i = us_parks[(us_parks.type == '')].index\n",
    "us_parks.drop(i, inplace = True)"
   ]
  },
  {
   "cell_type": "code",
   "execution_count": null,
   "metadata": {},
   "outputs": [],
   "source": [
    "#had to remove this park because it will break the API call loop, island can't be driven to\n",
    "us_parks.drop(us_parks.loc[us_parks['Name'] == \"Channel Islands National Park\"].index, inplace = True)\n",
    "us_parks.drop(us_parks.loc[us_parks['Name'] == \"Rainbow Bridge National Monument\"].index, inplace = True)\n",
    "us_parks.drop(us_parks.loc[us_parks['Name'] == \"Lake Chelan National Recreation Area\"].index, inplace = True)\n"
   ]
  },
  {
   "cell_type": "code",
   "execution_count": null,
   "metadata": {},
   "outputs": [],
   "source": [
    "us_parks.rename(columns = {\"Name\" : \"name\", \"Location\" : 'location'}, inplace = 'True')"
   ]
  },
  {
   "cell_type": "code",
   "execution_count": null,
   "metadata": {},
   "outputs": [],
   "source": [
    "us_parks.head()"
   ]
  },
  {
   "cell_type": "code",
   "execution_count": null,
   "metadata": {},
   "outputs": [],
   "source": [
    "lat_list = []\n",
    "lng_list = []\n",
    "\n",
    "for park in us_parks['name']:\n",
    "    target_park = park\n",
    "    base_url = \"https://maps.googleapis.com/maps/api/place/findplacefromtext/json\"\n",
    "    params = {\"input\": target_park,\"key\": gkey, \"inputtype\" : \"textquery\", \"fields\" : \"geometry\"}\n",
    "    response = requests.get(base_url, params=params)\n",
    "    trip = response.json()\n",
    "    \n",
    "    lat = trip[\"candidates\"][0][\"geometry\"][\"location\"][\"lat\"]\n",
    "    lng = trip[\"candidates\"][0][\"geometry\"][\"location\"][\"lng\"]\n",
    "    \n",
    "    lat_list.append(lat)\n",
    "    lng_list.append(lng)\n",
    "    \n",
    "us_parks.insert(3, 'lat', lat_list)\n",
    "us_parks.insert(4, 'lng', lng_list)   \n"
   ]
  },
  {
   "cell_type": "code",
   "execution_count": null,
   "metadata": {},
   "outputs": [],
   "source": [
    "data = pd.read_sql(\"SELECT * FROM Census_Data\", conn)"
   ]
  },
  {
   "cell_type": "code",
   "execution_count": null,
   "metadata": {},
   "outputs": [],
   "source": [
    "#all working\n",
    "\n",
    "##dont run on first iteration\n",
    "#del us_parks['distance']\n",
    "#del us_parks['duration']\n",
    "target_city = \"Los Angeles\"\n",
    "\n",
    "distances = []\n",
    "durations = []\n",
    "for park in us_parks['name']:\n",
    "    #target_city = \"Portland\"\n",
    "    target_park = park\n",
    "\n",
    "    base_url = \"https://maps.googleapis.com/maps/api/distancematrix/json?units=imperial\"\n",
    "\n",
    "    params = {\"origins\": target_city, \"destinations\": target_park, \"key\": gkey}\n",
    "\n",
    "    response = requests.get(base_url, params=params)\n",
    "    try:\n",
    "        trip = response.json()\n",
    "\n",
    "        distance = trip[\"rows\"][0][\"elements\"][0][\"distance\"][\"text\"]\n",
    "        duration = trip[\"rows\"][0][\"elements\"][0][\"duration\"][\"value\"]\n",
    "\n",
    "        hours = round((duration/3600),2)\n",
    "\n",
    "        if \".\" in distance:\n",
    "            new_distance = float(distance.strip('mi').replace(',', ''))\n",
    "        else:\n",
    "            new_distance = int(distance.strip('mi').replace(',', ''))\n",
    "\n",
    "        distances.append(new_distance)\n",
    "        durations.append(hours)\n",
    "    except:\n",
    "        distances.append(0)\n",
    "        durations.append(0)\n",
    "\n",
    "\n",
    "us_parks.insert(5, 'distance', distances)\n",
    "us_parks.insert(6, 'duration', durations)\n",
    "\n",
    "# add this shit to the database so I dont have to query Google every time "
   ]
  },
  {
   "cell_type": "code",
   "execution_count": null,
   "metadata": {},
   "outputs": [],
   "source": [
    "us_parks.head()"
   ]
  },
  {
   "cell_type": "code",
   "execution_count": null,
   "metadata": {},
   "outputs": [],
   "source": [
    "rds_connection_string = \"postgres:postgres@localhost:5432/Parks\"\n",
    "engine = create_engine(f'postgresql://{rds_connection_string}')"
   ]
  },
  {
   "cell_type": "code",
   "execution_count": null,
   "metadata": {},
   "outputs": [],
   "source": [
    "#us_parks.to_sql(target_city, engine)\n",
    "us_parks.to_sql(name=target_city.lower(), con=engine, if_exists='replace', index=False)"
   ]
  },
  {
   "cell_type": "code",
   "execution_count": null,
   "metadata": {},
   "outputs": [],
   "source": [
    "close_index = int(input(\"What is considered close to you in hours?\"))\n",
    "near_index = int(input(\"What is considered near to you in hours?\"))\n",
    "far_index = int(input(\"What is considered far to you in hours?\"))\n",
    "\n",
    "far_national_parks = national_parks[national_parks['Duration'] <= far_index]\n",
    "\n",
    "medium_national_parks = national_parks[(national_parks['Duration'] >= close_index) & (national_parks['Duration'] < far_index)]\n",
    "\n",
    "close_national_parks = national_parks[national_parks['Duration'] < close_index]\n",
    "\n",
    "print(\"Here is what you could reach within those criteria\")\n",
    "#print(len(medium_natinoal_parks))\n",
    "#print(len(close_national_parks))\n",
    "#print(len(far_natinoal_parks))\n",
    "close_national_parks"
   ]
  },
  {
   "cell_type": "code",
   "execution_count": null,
   "metadata": {},
   "outputs": [],
   "source": [
    "medium_national_parks"
   ]
  },
  {
   "cell_type": "code",
   "execution_count": null,
   "metadata": {},
   "outputs": [],
   "source": [
    "far_national_parks"
   ]
  },
  {
   "cell_type": "code",
   "execution_count": null,
   "metadata": {},
   "outputs": [],
   "source": [
    "close_index = int(input(\"What is considered close to you in hours?\"))\n",
    "near_index = int(input(\"What is considered near to you in hours?\"))\n",
    "far_index = int(input(\"What is considered far to you in hours?\"))\n",
    "\n",
    "far_national_parks = national_parks[national_parks['Duration'] >= far_index]\n",
    "\n",
    "medium_national_parks = national_parks[(national_parks['Duration'] >= close_index) & (national_parks['Duration'] < far_index)]\n",
    "\n",
    "close_national_parks = national_parks[national_parks['Duration'] < near_index]\n",
    "\n",
    "print(\"Here is what you could reach within those criteria\")\n",
    "#print(len(medium_natinoal_parks))\n",
    "#print(len(close_national_parks))\n",
    "#print(len(far_natinoal_parks))\n",
    "close_national_parks"
   ]
  },
  {
   "cell_type": "code",
   "execution_count": null,
   "metadata": {},
   "outputs": [],
   "source": [
    "##for scalability, when user inputs a new city, it uses the Google API to find all distances. After a city has been queried onve, the dabase is accessed instead for speed purposes\n",
    "\n",
    "#when you click a park, it takes you to a wiki page"
   ]
  }
 ],
 "metadata": {
  "kernelspec": {
   "display_name": "Python 3",
   "language": "python",
   "name": "python3"
  },
  "language_info": {
   "codemirror_mode": {
    "name": "ipython",
    "version": 3
   },
   "file_extension": ".py",
   "mimetype": "text/x-python",
   "name": "python",
   "nbconvert_exporter": "python",
   "pygments_lexer": "ipython3",
   "version": "3.7.6"
  }
 },
 "nbformat": 4,
 "nbformat_minor": 4
}
